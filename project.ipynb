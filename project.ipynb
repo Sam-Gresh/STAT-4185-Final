{
 "cells": [
  {
   "cell_type": "markdown",
   "source": [
    "### Data Collection"
   ],
   "metadata": {
    "collapsed": false
   }
  },
  {
   "cell_type": "code",
   "execution_count": 303,
   "metadata": {
    "collapsed": true
   },
   "outputs": [],
   "source": [
    "import numpy as np\n",
    "import pandas\n",
    "from bs4 import BeautifulSoup\n",
    "import requests\n",
    "import pandas as pd\n",
    "from tqdm.notebook import tqdm\n",
    "import matplotlib.pyplot as plt\n",
    "from datetime import datetime\n",
    "from meteostat import Point, Daily\n",
    "from geopy.geocoders import Nominatim"
   ]
  },
  {
   "cell_type": "code",
   "execution_count": null,
   "outputs": [],
   "source": [],
   "metadata": {
    "collapsed": false
   }
  },
  {
   "cell_type": "code",
   "execution_count": 4,
   "outputs": [],
   "source": [
    "base_url = \"https://www.racing-reference.info/\"\n",
    "driver_url = \"https://www.racing-reference.info/driver/Jimmie_Johnson/\""
   ],
   "metadata": {
    "collapsed": false
   }
  },
  {
   "cell_type": "code",
   "execution_count": 5,
   "outputs": [
    {
     "data": {
      "text/plain": "200"
     },
     "execution_count": 5,
     "metadata": {},
     "output_type": "execute_result"
    }
   ],
   "source": [
    "r = requests.get(driver_url)\n",
    "r.status_code"
   ],
   "metadata": {
    "collapsed": false
   }
  },
  {
   "cell_type": "code",
   "execution_count": 7,
   "outputs": [],
   "source": [
    "soup = BeautifulSoup(r.content, \"html.parser\")"
   ],
   "metadata": {
    "collapsed": false
   }
  },
  {
   "cell_type": "code",
   "execution_count": 168,
   "outputs": [
    {
     "data": {
      "text/plain": "    year age  completed win  t5 t10 pole   laps   led    earnings rank  \\\n0   2002  26   36 of 36   3   6  21    4  10521   838   3,788,268    5   \n1   2003  27   36 of 36   3  14  20    2  10492   644   7,745,530    2   \n2   2004  28   36 of 36   8  20  23    1  10054  1312   8,275,721    2   \n3   2005  29   36 of 36   4  13  22    1  10126   547   8,336,712    5   \n4   2006  30   36 of 36   5  13  24    1  10577   854  15,875,125    1   \n5   2007  31   36 of 36  10  20  24    4  10318  1290  15,313,920    1   \n6   2008  32   36 of 36   7  15  22    6  10643  1959  15,170,464    1   \n7   2009  33   36 of 36   7  16  24    4  10298  2238  14,388,237    1   \n8   2010  34   36 of 36   6  17  23    2  10418  1315  13,393,186    1   \n9   2011  35   36 of 36   2  14  21    0  10560  1115   7,599,034    6   \n10  2012  36   36 of 36   5  18  24    4   9924  1744  10,469,436    3   \n11  2013  37   36 of 36   6  16  24    3  10306  1985  14,663,155    1   \n12  2014  38   36 of 36   4  11  20    1   9893  1310   7,632,728   11   \n13  2015  39   36 of 36   5  14  22    1  10207   558   8,152,877   10   \n14  2016  40   36 of 36   5  11  16    1  10231   737           0    1   \n15  2017  41   36 of 36   3   4  11    0   9955   217           0   10   \n16  2018  42   36 of 36   0   2  11    0   9764    40           0   14   \n17  2019  43   36 of 36   0   3  12    1   9798   131           0   18   \n\n   avg_start avg_finish running_at_finish lead_lap_finishes dnq withdrew  \\\n0       14.3       13.5                33                25   0        0   \n1       12.3       11.4                33                29   0        0   \n2       10.5       12.1                29                27   0        0   \n3       12.2       12.7                31                28   0        0   \n4       10.8        9.7                35                31   0        0   \n5        9.8       10.8                32                26   0        0   \n6        8.5       10.5                35                29   0        0   \n7        8.3       11.1                35                30   0        0   \n8        9.4       12.2                32                27   0        0   \n9       12.9       11.9                34                29   0        0   \n10      10.6       11.2                30                27   0        0   \n11       9.8       10.7                35                28   0        0   \n12      11.9       15.3                32                27   0        0   \n13      12.1       12.8                35                28   0        0   \n14      12.1       14.0                32                26   0        0   \n15      16.9       16.8                29                25   0        0   \n16      19.2       16.7                32                23   0        0   \n17      13.5       17.4                32                21   0        0   \n\n                    href  \n0   /season-stats/2002/W  \n1   /season-stats/2003/W  \n2   /season-stats/2004/W  \n3   /season-stats/2005/W  \n4   /season-stats/2006/W  \n5   /season-stats/2007/W  \n6   /season-stats/2008/W  \n7   /season-stats/2009/W  \n8   /season-stats/2010/W  \n9   /season-stats/2011/W  \n10  /season-stats/2012/W  \n11  /season-stats/2013/W  \n12  /season-stats/2014/W  \n13  /season-stats/2015/W  \n14  /season-stats/2016/W  \n15  /season-stats/2017/W  \n16  /season-stats/2018/W  \n17  /season-stats/2019/W  ",
      "text/html": "<div>\n<style scoped>\n    .dataframe tbody tr th:only-of-type {\n        vertical-align: middle;\n    }\n\n    .dataframe tbody tr th {\n        vertical-align: top;\n    }\n\n    .dataframe thead th {\n        text-align: right;\n    }\n</style>\n<table border=\"1\" class=\"dataframe\">\n  <thead>\n    <tr style=\"text-align: right;\">\n      <th></th>\n      <th>year</th>\n      <th>age</th>\n      <th>completed</th>\n      <th>win</th>\n      <th>t5</th>\n      <th>t10</th>\n      <th>pole</th>\n      <th>laps</th>\n      <th>led</th>\n      <th>earnings</th>\n      <th>rank</th>\n      <th>avg_start</th>\n      <th>avg_finish</th>\n      <th>running_at_finish</th>\n      <th>lead_lap_finishes</th>\n      <th>dnq</th>\n      <th>withdrew</th>\n      <th>href</th>\n    </tr>\n  </thead>\n  <tbody>\n    <tr>\n      <th>0</th>\n      <td>2002</td>\n      <td>26</td>\n      <td>36 of 36</td>\n      <td>3</td>\n      <td>6</td>\n      <td>21</td>\n      <td>4</td>\n      <td>10521</td>\n      <td>838</td>\n      <td>3,788,268</td>\n      <td>5</td>\n      <td>14.3</td>\n      <td>13.5</td>\n      <td>33</td>\n      <td>25</td>\n      <td>0</td>\n      <td>0</td>\n      <td>/season-stats/2002/W</td>\n    </tr>\n    <tr>\n      <th>1</th>\n      <td>2003</td>\n      <td>27</td>\n      <td>36 of 36</td>\n      <td>3</td>\n      <td>14</td>\n      <td>20</td>\n      <td>2</td>\n      <td>10492</td>\n      <td>644</td>\n      <td>7,745,530</td>\n      <td>2</td>\n      <td>12.3</td>\n      <td>11.4</td>\n      <td>33</td>\n      <td>29</td>\n      <td>0</td>\n      <td>0</td>\n      <td>/season-stats/2003/W</td>\n    </tr>\n    <tr>\n      <th>2</th>\n      <td>2004</td>\n      <td>28</td>\n      <td>36 of 36</td>\n      <td>8</td>\n      <td>20</td>\n      <td>23</td>\n      <td>1</td>\n      <td>10054</td>\n      <td>1312</td>\n      <td>8,275,721</td>\n      <td>2</td>\n      <td>10.5</td>\n      <td>12.1</td>\n      <td>29</td>\n      <td>27</td>\n      <td>0</td>\n      <td>0</td>\n      <td>/season-stats/2004/W</td>\n    </tr>\n    <tr>\n      <th>3</th>\n      <td>2005</td>\n      <td>29</td>\n      <td>36 of 36</td>\n      <td>4</td>\n      <td>13</td>\n      <td>22</td>\n      <td>1</td>\n      <td>10126</td>\n      <td>547</td>\n      <td>8,336,712</td>\n      <td>5</td>\n      <td>12.2</td>\n      <td>12.7</td>\n      <td>31</td>\n      <td>28</td>\n      <td>0</td>\n      <td>0</td>\n      <td>/season-stats/2005/W</td>\n    </tr>\n    <tr>\n      <th>4</th>\n      <td>2006</td>\n      <td>30</td>\n      <td>36 of 36</td>\n      <td>5</td>\n      <td>13</td>\n      <td>24</td>\n      <td>1</td>\n      <td>10577</td>\n      <td>854</td>\n      <td>15,875,125</td>\n      <td>1</td>\n      <td>10.8</td>\n      <td>9.7</td>\n      <td>35</td>\n      <td>31</td>\n      <td>0</td>\n      <td>0</td>\n      <td>/season-stats/2006/W</td>\n    </tr>\n    <tr>\n      <th>5</th>\n      <td>2007</td>\n      <td>31</td>\n      <td>36 of 36</td>\n      <td>10</td>\n      <td>20</td>\n      <td>24</td>\n      <td>4</td>\n      <td>10318</td>\n      <td>1290</td>\n      <td>15,313,920</td>\n      <td>1</td>\n      <td>9.8</td>\n      <td>10.8</td>\n      <td>32</td>\n      <td>26</td>\n      <td>0</td>\n      <td>0</td>\n      <td>/season-stats/2007/W</td>\n    </tr>\n    <tr>\n      <th>6</th>\n      <td>2008</td>\n      <td>32</td>\n      <td>36 of 36</td>\n      <td>7</td>\n      <td>15</td>\n      <td>22</td>\n      <td>6</td>\n      <td>10643</td>\n      <td>1959</td>\n      <td>15,170,464</td>\n      <td>1</td>\n      <td>8.5</td>\n      <td>10.5</td>\n      <td>35</td>\n      <td>29</td>\n      <td>0</td>\n      <td>0</td>\n      <td>/season-stats/2008/W</td>\n    </tr>\n    <tr>\n      <th>7</th>\n      <td>2009</td>\n      <td>33</td>\n      <td>36 of 36</td>\n      <td>7</td>\n      <td>16</td>\n      <td>24</td>\n      <td>4</td>\n      <td>10298</td>\n      <td>2238</td>\n      <td>14,388,237</td>\n      <td>1</td>\n      <td>8.3</td>\n      <td>11.1</td>\n      <td>35</td>\n      <td>30</td>\n      <td>0</td>\n      <td>0</td>\n      <td>/season-stats/2009/W</td>\n    </tr>\n    <tr>\n      <th>8</th>\n      <td>2010</td>\n      <td>34</td>\n      <td>36 of 36</td>\n      <td>6</td>\n      <td>17</td>\n      <td>23</td>\n      <td>2</td>\n      <td>10418</td>\n      <td>1315</td>\n      <td>13,393,186</td>\n      <td>1</td>\n      <td>9.4</td>\n      <td>12.2</td>\n      <td>32</td>\n      <td>27</td>\n      <td>0</td>\n      <td>0</td>\n      <td>/season-stats/2010/W</td>\n    </tr>\n    <tr>\n      <th>9</th>\n      <td>2011</td>\n      <td>35</td>\n      <td>36 of 36</td>\n      <td>2</td>\n      <td>14</td>\n      <td>21</td>\n      <td>0</td>\n      <td>10560</td>\n      <td>1115</td>\n      <td>7,599,034</td>\n      <td>6</td>\n      <td>12.9</td>\n      <td>11.9</td>\n      <td>34</td>\n      <td>29</td>\n      <td>0</td>\n      <td>0</td>\n      <td>/season-stats/2011/W</td>\n    </tr>\n    <tr>\n      <th>10</th>\n      <td>2012</td>\n      <td>36</td>\n      <td>36 of 36</td>\n      <td>5</td>\n      <td>18</td>\n      <td>24</td>\n      <td>4</td>\n      <td>9924</td>\n      <td>1744</td>\n      <td>10,469,436</td>\n      <td>3</td>\n      <td>10.6</td>\n      <td>11.2</td>\n      <td>30</td>\n      <td>27</td>\n      <td>0</td>\n      <td>0</td>\n      <td>/season-stats/2012/W</td>\n    </tr>\n    <tr>\n      <th>11</th>\n      <td>2013</td>\n      <td>37</td>\n      <td>36 of 36</td>\n      <td>6</td>\n      <td>16</td>\n      <td>24</td>\n      <td>3</td>\n      <td>10306</td>\n      <td>1985</td>\n      <td>14,663,155</td>\n      <td>1</td>\n      <td>9.8</td>\n      <td>10.7</td>\n      <td>35</td>\n      <td>28</td>\n      <td>0</td>\n      <td>0</td>\n      <td>/season-stats/2013/W</td>\n    </tr>\n    <tr>\n      <th>12</th>\n      <td>2014</td>\n      <td>38</td>\n      <td>36 of 36</td>\n      <td>4</td>\n      <td>11</td>\n      <td>20</td>\n      <td>1</td>\n      <td>9893</td>\n      <td>1310</td>\n      <td>7,632,728</td>\n      <td>11</td>\n      <td>11.9</td>\n      <td>15.3</td>\n      <td>32</td>\n      <td>27</td>\n      <td>0</td>\n      <td>0</td>\n      <td>/season-stats/2014/W</td>\n    </tr>\n    <tr>\n      <th>13</th>\n      <td>2015</td>\n      <td>39</td>\n      <td>36 of 36</td>\n      <td>5</td>\n      <td>14</td>\n      <td>22</td>\n      <td>1</td>\n      <td>10207</td>\n      <td>558</td>\n      <td>8,152,877</td>\n      <td>10</td>\n      <td>12.1</td>\n      <td>12.8</td>\n      <td>35</td>\n      <td>28</td>\n      <td>0</td>\n      <td>0</td>\n      <td>/season-stats/2015/W</td>\n    </tr>\n    <tr>\n      <th>14</th>\n      <td>2016</td>\n      <td>40</td>\n      <td>36 of 36</td>\n      <td>5</td>\n      <td>11</td>\n      <td>16</td>\n      <td>1</td>\n      <td>10231</td>\n      <td>737</td>\n      <td>0</td>\n      <td>1</td>\n      <td>12.1</td>\n      <td>14.0</td>\n      <td>32</td>\n      <td>26</td>\n      <td>0</td>\n      <td>0</td>\n      <td>/season-stats/2016/W</td>\n    </tr>\n    <tr>\n      <th>15</th>\n      <td>2017</td>\n      <td>41</td>\n      <td>36 of 36</td>\n      <td>3</td>\n      <td>4</td>\n      <td>11</td>\n      <td>0</td>\n      <td>9955</td>\n      <td>217</td>\n      <td>0</td>\n      <td>10</td>\n      <td>16.9</td>\n      <td>16.8</td>\n      <td>29</td>\n      <td>25</td>\n      <td>0</td>\n      <td>0</td>\n      <td>/season-stats/2017/W</td>\n    </tr>\n    <tr>\n      <th>16</th>\n      <td>2018</td>\n      <td>42</td>\n      <td>36 of 36</td>\n      <td>0</td>\n      <td>2</td>\n      <td>11</td>\n      <td>0</td>\n      <td>9764</td>\n      <td>40</td>\n      <td>0</td>\n      <td>14</td>\n      <td>19.2</td>\n      <td>16.7</td>\n      <td>32</td>\n      <td>23</td>\n      <td>0</td>\n      <td>0</td>\n      <td>/season-stats/2018/W</td>\n    </tr>\n    <tr>\n      <th>17</th>\n      <td>2019</td>\n      <td>43</td>\n      <td>36 of 36</td>\n      <td>0</td>\n      <td>3</td>\n      <td>12</td>\n      <td>1</td>\n      <td>9798</td>\n      <td>131</td>\n      <td>0</td>\n      <td>18</td>\n      <td>13.5</td>\n      <td>17.4</td>\n      <td>32</td>\n      <td>21</td>\n      <td>0</td>\n      <td>0</td>\n      <td>/season-stats/2019/W</td>\n    </tr>\n  </tbody>\n</table>\n</div>"
     },
     "execution_count": 168,
     "metadata": {},
     "output_type": "execute_result"
    }
   ],
   "source": [
    "cells = soup.select(\".tb:nth-child(3) .even .col , .tb:nth-child(3) .odd .col\")\n",
    "table = []\n",
    "for i in range(20):\n",
    "    row = []\n",
    "    for j in range(17):\n",
    "        row.append(cells[i * 17 + j].text)\n",
    "    row.append(cells[i * 17].find(\"a\")[\"href\"])\n",
    "    table.append(row)\n",
    "seasons = pd.DataFrame(table)\n",
    "seasons.drop([0, 19], inplace=True)\n",
    "seasons.reset_index(inplace=True, drop=True)\n",
    "seasons.rename(columns={0 : \"year\", 1 : \"age\", 2 : \"completed\", 3 : \"win\", 4 : \"t5\", 5 : \"t10\", 6 : \"pole\", 7: \"laps\", 8 : \"led\", 9 : \"earnings\", 10: \"rank\", 11 : \"avg_start\", 12: \"avg_finish\", 13: \"running_at_finish\", 14 : \"lead_lap_finishes\", 15: \"dnq\", 16: \"withdrew\", 17 : \"href\"}, inplace=True)\n",
    "seasons"
   ],
   "metadata": {
    "collapsed": false
   }
  },
  {
   "cell_type": "code",
   "execution_count": 125,
   "outputs": [
    {
     "data": {
      "text/plain": "  0%|          | 0/18 [00:00<?, ?it/s]",
      "application/vnd.jupyter.widget-view+json": {
       "version_major": 2,
       "version_minor": 0,
       "model_id": "00d321ee3bda4206b56e684b790438a7"
      }
     },
     "metadata": {},
     "output_type": "display_data"
    }
   ],
   "source": [
    "races = DataFrame()\n",
    "for index, row in tqdm(seasons[[\"year\", \"href\"]].iterrows(), total=18):\n",
    "    href = row[\"href\"]\n",
    "    season = row[\"year\"]\n",
    "    url = base_url + href.strip(\"/\")\n",
    "    r = requests.get(url)\n",
    "    season_soup = BeautifulSoup(r.content, \"html.parser\")\n",
    "    cells = season_soup.select(\".table-row div\")\n",
    "    table = []\n",
    "    for i in range(36):\n",
    "        row = [season]\n",
    "        for j in range(17):\n",
    "            row.append(cells[i * 17 + j].text)\n",
    "        row.append(cells[i * 17].find(\"a\")[\"href\"])\n",
    "        table.append(row)\n",
    "    race = pd.DataFrame(table)\n",
    "    race.drop(columns=[6], inplace=True)\n",
    "    race.rename(columns={0 : \"season\", 1 : \"race_number\", 2 : \"date\", 3 : \"site\", 4 : \"cars\", 5: \"winner\", 7 : \"start\", 8 : \"make/model\", 9 : \"len\", 10 : \"sfc\", 11 : \"miles\", 12 : \"purse\", 13 : \"pole\", 14: \"cautions\", 15 : \"caution_laps\", 16 : \"speed\", 17 : \"lc\", 18 : \"href\"}, inplace=True)\n",
    "    races = pd.concat([races, race]).reset_index().drop(columns=[\"index\"])\n",
    "races.reset_index(inplace=True)"
   ],
   "metadata": {
    "collapsed": false
   }
  },
  {
   "cell_type": "code",
   "execution_count": 126,
   "outputs": [
    {
     "data": {
      "text/plain": "     index season race_number      date          site cars             winner  \\\n0        0   2002           1  02/17/02       Daytona   43        Ward Burton   \n1        1   2002           2  02/24/02    Rockingham   43       Matt Kenseth   \n2        2   2002           3  03/03/02     Las Vegas   43    Sterling Marlin   \n3        3   2002           4  03/10/02       Atlanta   43       Tony Stewart   \n4        4   2002           5  03/17/02    Darlington   43    Sterling Marlin   \n..     ...    ...         ...       ...           ...  ...                ...   \n643    643   2019          32  10/20/19        Kansas   40       Denny Hamlin   \n644    644   2019          33  10/27/19  Martinsville   38  Martin Truex, Jr.   \n645    645   2019          34  11/03/19    Fort Worth   40      Kevin Harvick   \n646    646   2019          35  11/10/19       Phoenix   39       Denny Hamlin   \n647    647   2019          36  11/17/19     Homestead   40         Kyle Busch   \n\n    start make/model    len sfc miles         purse     pole cautions  \\\n0      19     Dodge   2.500   P   500   10,573,184   185.831        9   \n1      25      Ford   1.017   P   400    2,949,536   156.008       10   \n2      24     Dodge   1.500   P   401    4,137,735   172.850        6   \n3       9   Pontiac   1.540   P   501    2,911,575   191.542        7   \n4      11     Dodge   1.366   P   400    2,834,398   170.089        5   \n..    ...        ...    ...  ..   ...           ...      ...      ...   \n643    23    Toyota   1.500   P   416                178.047        7   \n644     3    Toyota   0.526   P   263                 97.840       11   \n645     1      Ford   1.500   P   501                189.707       11   \n646     3    Toyota   1.000   P   312                140.116        5   \n647     4    Toyota   1.500   P   401                    NTT        3   \n\n    caution_laps    speed  lc  \\\n0             38  142.971  20   \n1             57  115.478  17   \n2             25  136.754  22   \n3             37  148.443  34   \n4             40  126.070  11   \n..           ...      ...  ..   \n643           32  136.491  15   \n644           69   75.448   3   \n645           56  133.759  26   \n646           32  111.429   8   \n647           15  142.654  14   \n\n                                                  href  \n0    https://www.racing-reference.info/race-results...  \n1    https://www.racing-reference.info/race-results...  \n2    https://www.racing-reference.info/race-results...  \n3    https://www.racing-reference.info/race-results...  \n4    https://www.racing-reference.info/race-results...  \n..                                                 ...  \n643  https://www.racing-reference.info/race-results...  \n644  https://www.racing-reference.info/race-results...  \n645  https://www.racing-reference.info/race-results...  \n646  https://www.racing-reference.info/race-results...  \n647  https://www.racing-reference.info/race-results...  \n\n[648 rows x 19 columns]",
      "text/html": "<div>\n<style scoped>\n    .dataframe tbody tr th:only-of-type {\n        vertical-align: middle;\n    }\n\n    .dataframe tbody tr th {\n        vertical-align: top;\n    }\n\n    .dataframe thead th {\n        text-align: right;\n    }\n</style>\n<table border=\"1\" class=\"dataframe\">\n  <thead>\n    <tr style=\"text-align: right;\">\n      <th></th>\n      <th>index</th>\n      <th>season</th>\n      <th>race_number</th>\n      <th>date</th>\n      <th>site</th>\n      <th>cars</th>\n      <th>winner</th>\n      <th>start</th>\n      <th>make/model</th>\n      <th>len</th>\n      <th>sfc</th>\n      <th>miles</th>\n      <th>purse</th>\n      <th>pole</th>\n      <th>cautions</th>\n      <th>caution_laps</th>\n      <th>speed</th>\n      <th>lc</th>\n      <th>href</th>\n    </tr>\n  </thead>\n  <tbody>\n    <tr>\n      <th>0</th>\n      <td>0</td>\n      <td>2002</td>\n      <td>1</td>\n      <td>02/17/02</td>\n      <td>Daytona</td>\n      <td>43</td>\n      <td>Ward Burton</td>\n      <td>19</td>\n      <td>Dodge</td>\n      <td>2.500</td>\n      <td>P</td>\n      <td>500</td>\n      <td>10,573,184</td>\n      <td>185.831</td>\n      <td>9</td>\n      <td>38</td>\n      <td>142.971</td>\n      <td>20</td>\n      <td>https://www.racing-reference.info/race-results...</td>\n    </tr>\n    <tr>\n      <th>1</th>\n      <td>1</td>\n      <td>2002</td>\n      <td>2</td>\n      <td>02/24/02</td>\n      <td>Rockingham</td>\n      <td>43</td>\n      <td>Matt Kenseth</td>\n      <td>25</td>\n      <td>Ford</td>\n      <td>1.017</td>\n      <td>P</td>\n      <td>400</td>\n      <td>2,949,536</td>\n      <td>156.008</td>\n      <td>10</td>\n      <td>57</td>\n      <td>115.478</td>\n      <td>17</td>\n      <td>https://www.racing-reference.info/race-results...</td>\n    </tr>\n    <tr>\n      <th>2</th>\n      <td>2</td>\n      <td>2002</td>\n      <td>3</td>\n      <td>03/03/02</td>\n      <td>Las Vegas</td>\n      <td>43</td>\n      <td>Sterling Marlin</td>\n      <td>24</td>\n      <td>Dodge</td>\n      <td>1.500</td>\n      <td>P</td>\n      <td>401</td>\n      <td>4,137,735</td>\n      <td>172.850</td>\n      <td>6</td>\n      <td>25</td>\n      <td>136.754</td>\n      <td>22</td>\n      <td>https://www.racing-reference.info/race-results...</td>\n    </tr>\n    <tr>\n      <th>3</th>\n      <td>3</td>\n      <td>2002</td>\n      <td>4</td>\n      <td>03/10/02</td>\n      <td>Atlanta</td>\n      <td>43</td>\n      <td>Tony Stewart</td>\n      <td>9</td>\n      <td>Pontiac</td>\n      <td>1.540</td>\n      <td>P</td>\n      <td>501</td>\n      <td>2,911,575</td>\n      <td>191.542</td>\n      <td>7</td>\n      <td>37</td>\n      <td>148.443</td>\n      <td>34</td>\n      <td>https://www.racing-reference.info/race-results...</td>\n    </tr>\n    <tr>\n      <th>4</th>\n      <td>4</td>\n      <td>2002</td>\n      <td>5</td>\n      <td>03/17/02</td>\n      <td>Darlington</td>\n      <td>43</td>\n      <td>Sterling Marlin</td>\n      <td>11</td>\n      <td>Dodge</td>\n      <td>1.366</td>\n      <td>P</td>\n      <td>400</td>\n      <td>2,834,398</td>\n      <td>170.089</td>\n      <td>5</td>\n      <td>40</td>\n      <td>126.070</td>\n      <td>11</td>\n      <td>https://www.racing-reference.info/race-results...</td>\n    </tr>\n    <tr>\n      <th>...</th>\n      <td>...</td>\n      <td>...</td>\n      <td>...</td>\n      <td>...</td>\n      <td>...</td>\n      <td>...</td>\n      <td>...</td>\n      <td>...</td>\n      <td>...</td>\n      <td>...</td>\n      <td>...</td>\n      <td>...</td>\n      <td>...</td>\n      <td>...</td>\n      <td>...</td>\n      <td>...</td>\n      <td>...</td>\n      <td>...</td>\n      <td>...</td>\n    </tr>\n    <tr>\n      <th>643</th>\n      <td>643</td>\n      <td>2019</td>\n      <td>32</td>\n      <td>10/20/19</td>\n      <td>Kansas</td>\n      <td>40</td>\n      <td>Denny Hamlin</td>\n      <td>23</td>\n      <td>Toyota</td>\n      <td>1.500</td>\n      <td>P</td>\n      <td>416</td>\n      <td></td>\n      <td>178.047</td>\n      <td>7</td>\n      <td>32</td>\n      <td>136.491</td>\n      <td>15</td>\n      <td>https://www.racing-reference.info/race-results...</td>\n    </tr>\n    <tr>\n      <th>644</th>\n      <td>644</td>\n      <td>2019</td>\n      <td>33</td>\n      <td>10/27/19</td>\n      <td>Martinsville</td>\n      <td>38</td>\n      <td>Martin Truex, Jr.</td>\n      <td>3</td>\n      <td>Toyota</td>\n      <td>0.526</td>\n      <td>P</td>\n      <td>263</td>\n      <td></td>\n      <td>97.840</td>\n      <td>11</td>\n      <td>69</td>\n      <td>75.448</td>\n      <td>3</td>\n      <td>https://www.racing-reference.info/race-results...</td>\n    </tr>\n    <tr>\n      <th>645</th>\n      <td>645</td>\n      <td>2019</td>\n      <td>34</td>\n      <td>11/03/19</td>\n      <td>Fort Worth</td>\n      <td>40</td>\n      <td>Kevin Harvick</td>\n      <td>1</td>\n      <td>Ford</td>\n      <td>1.500</td>\n      <td>P</td>\n      <td>501</td>\n      <td></td>\n      <td>189.707</td>\n      <td>11</td>\n      <td>56</td>\n      <td>133.759</td>\n      <td>26</td>\n      <td>https://www.racing-reference.info/race-results...</td>\n    </tr>\n    <tr>\n      <th>646</th>\n      <td>646</td>\n      <td>2019</td>\n      <td>35</td>\n      <td>11/10/19</td>\n      <td>Phoenix</td>\n      <td>39</td>\n      <td>Denny Hamlin</td>\n      <td>3</td>\n      <td>Toyota</td>\n      <td>1.000</td>\n      <td>P</td>\n      <td>312</td>\n      <td></td>\n      <td>140.116</td>\n      <td>5</td>\n      <td>32</td>\n      <td>111.429</td>\n      <td>8</td>\n      <td>https://www.racing-reference.info/race-results...</td>\n    </tr>\n    <tr>\n      <th>647</th>\n      <td>647</td>\n      <td>2019</td>\n      <td>36</td>\n      <td>11/17/19</td>\n      <td>Homestead</td>\n      <td>40</td>\n      <td>Kyle Busch</td>\n      <td>4</td>\n      <td>Toyota</td>\n      <td>1.500</td>\n      <td>P</td>\n      <td>401</td>\n      <td></td>\n      <td>NTT</td>\n      <td>3</td>\n      <td>15</td>\n      <td>142.654</td>\n      <td>14</td>\n      <td>https://www.racing-reference.info/race-results...</td>\n    </tr>\n  </tbody>\n</table>\n<p>648 rows × 19 columns</p>\n</div>"
     },
     "execution_count": 126,
     "metadata": {},
     "output_type": "execute_result"
    }
   ],
   "source": [
    "races"
   ],
   "metadata": {
    "collapsed": false
   }
  },
  {
   "cell_type": "code",
   "execution_count": 230,
   "outputs": [
    {
     "data": {
      "text/plain": "  0%|          | 0/648 [00:00<?, ?it/s]",
      "application/vnd.jupyter.widget-view+json": {
       "version_major": 2,
       "version_minor": 0,
       "model_id": "d7f1f4a55d6448bbafdb61ee8f9b562f"
      }
     },
     "metadata": {},
     "output_type": "display_data"
    }
   ],
   "source": [
    "standings = DataFrame()\n",
    "for index, row in tqdm(races[[\"index\", \"season\", \"href\"]].iterrows(), total=len(races[\"index\"])):\n",
    "    url = row[\"href\"]\n",
    "    race_id = row[\"index\"]\n",
    "    r = requests.get(url)\n",
    "    if r.status_code != 200:\n",
    "        print(\"it broke\")\n",
    "        break\n",
    "    standing_soup = BeautifulSoup(r.content, \"html.parser\")\n",
    "    cells = standing_soup.select(\".race-results-tbl td\")\n",
    "    table = []\n",
    "    if int(row[\"season\"]) == 2016:\n",
    "        n = 10\n",
    "    else:\n",
    "        n = 11\n",
    "    for i in range(len(cells) // n):\n",
    "        row_proto = [race_id]\n",
    "        for j in range(n):\n",
    "            row_proto.append(cells[i * n + j].text)\n",
    "        if int(row[\"season\"]) > 2016:\n",
    "            row_proto.pop()\n",
    "            row_proto.insert(11, 0)\n",
    "        if n == 10:\n",
    "            row_proto.insert(11, 0)\n",
    "        table.append(row_proto)\n",
    "    standing = pd.DataFrame(table)\n",
    "    standing.rename(inplace=True, columns={0 : \"race_id\", 1 : \"place\", 2 : \"start\", 3 : \"number\", 4 : \"driver\", 5 : \"sponsor\", 6 : \"car\", 7 : \"laps\", 8 : \"money\", 9 : \"status\", 10 : \"led\", 11 : \"pts\"})\n",
    "    standings = pd.concat([standings, standing]).reset_index().drop(columns=[\"index\"])\n",
    "standings.reset_index(inplace=True)\n",
    "standings.drop(columns=[\"money\", \"status\", \"led\", \"pts\"], inplace=True)"
   ],
   "metadata": {
    "collapsed": false
   }
  },
  {
   "cell_type": "code",
   "execution_count": 239,
   "outputs": [
    {
     "data": {
      "text/plain": "       index  race_id place start number               driver  \\\n0          0        0     1    19     22         Ward Burton    \n1          1        0     2    41     21      Elliott Sadler    \n2          2        0     3    35     09     Geoffrey Bodine    \n3          3        0     4    15     97          Kurt Busch    \n4          4        0     5     4     15     Michael Waltrip    \n...      ...      ...   ...   ...    ...                  ...   \n27295  27295      647    36    38     52        Josh Bilicki    \n27296  27296      647    37    35     77       Reed Sorenson    \n27297  27297      647    38    32     15        Joe Nemechek    \n27298  27298      647    39     9     24       William Byron    \n27299  27299      647    40     6     42         Kyle Larson    \n\n                                               sponsor        car laps  \n0                           Caterpillar   (Bill Davis)      Dodge  200  \n1                         Motorcraft   (Wood Brothers)       Ford  200  \n2             Miccosukee Indian Gaming   (James Finch)       Ford  200  \n3                            Rubbermaid   (Jack Roush)       Ford  200  \n4         NAPA / DEI 20 Years   (Dale Earnhardt, Inc.)  Chevrolet  200  \n...                                                ...        ...  ...  \n27295            Travis Mills Foundation   (Rick Ware)       Ford  240  \n27296          Rousseau / Quartz   (Spire Motorsports)  Chevrolet  236  \n27297         RoyalTeakCollection.com   (Jay Robinson)  Chevrolet  227  \n27298  Axalta Flames of Independence   (Rick Hendrick)  Chevrolet  215  \n27299                 Credit One Bank   (Chip Ganassi)  Chevrolet  209  \n\n[27300 rows x 9 columns]",
      "text/html": "<div>\n<style scoped>\n    .dataframe tbody tr th:only-of-type {\n        vertical-align: middle;\n    }\n\n    .dataframe tbody tr th {\n        vertical-align: top;\n    }\n\n    .dataframe thead th {\n        text-align: right;\n    }\n</style>\n<table border=\"1\" class=\"dataframe\">\n  <thead>\n    <tr style=\"text-align: right;\">\n      <th></th>\n      <th>index</th>\n      <th>race_id</th>\n      <th>place</th>\n      <th>start</th>\n      <th>number</th>\n      <th>driver</th>\n      <th>sponsor</th>\n      <th>car</th>\n      <th>laps</th>\n    </tr>\n  </thead>\n  <tbody>\n    <tr>\n      <th>0</th>\n      <td>0</td>\n      <td>0</td>\n      <td>1</td>\n      <td>19</td>\n      <td>22</td>\n      <td>Ward Burton</td>\n      <td>Caterpillar   (Bill Davis)</td>\n      <td>Dodge</td>\n      <td>200</td>\n    </tr>\n    <tr>\n      <th>1</th>\n      <td>1</td>\n      <td>0</td>\n      <td>2</td>\n      <td>41</td>\n      <td>21</td>\n      <td>Elliott Sadler</td>\n      <td>Motorcraft   (Wood Brothers)</td>\n      <td>Ford</td>\n      <td>200</td>\n    </tr>\n    <tr>\n      <th>2</th>\n      <td>2</td>\n      <td>0</td>\n      <td>3</td>\n      <td>35</td>\n      <td>09</td>\n      <td>Geoffrey Bodine</td>\n      <td>Miccosukee Indian Gaming   (James Finch)</td>\n      <td>Ford</td>\n      <td>200</td>\n    </tr>\n    <tr>\n      <th>3</th>\n      <td>3</td>\n      <td>0</td>\n      <td>4</td>\n      <td>15</td>\n      <td>97</td>\n      <td>Kurt Busch</td>\n      <td>Rubbermaid   (Jack Roush)</td>\n      <td>Ford</td>\n      <td>200</td>\n    </tr>\n    <tr>\n      <th>4</th>\n      <td>4</td>\n      <td>0</td>\n      <td>5</td>\n      <td>4</td>\n      <td>15</td>\n      <td>Michael Waltrip</td>\n      <td>NAPA / DEI 20 Years   (Dale Earnhardt, Inc.)</td>\n      <td>Chevrolet</td>\n      <td>200</td>\n    </tr>\n    <tr>\n      <th>...</th>\n      <td>...</td>\n      <td>...</td>\n      <td>...</td>\n      <td>...</td>\n      <td>...</td>\n      <td>...</td>\n      <td>...</td>\n      <td>...</td>\n      <td>...</td>\n    </tr>\n    <tr>\n      <th>27295</th>\n      <td>27295</td>\n      <td>647</td>\n      <td>36</td>\n      <td>38</td>\n      <td>52</td>\n      <td>Josh Bilicki</td>\n      <td>Travis Mills Foundation   (Rick Ware)</td>\n      <td>Ford</td>\n      <td>240</td>\n    </tr>\n    <tr>\n      <th>27296</th>\n      <td>27296</td>\n      <td>647</td>\n      <td>37</td>\n      <td>35</td>\n      <td>77</td>\n      <td>Reed Sorenson</td>\n      <td>Rousseau / Quartz   (Spire Motorsports)</td>\n      <td>Chevrolet</td>\n      <td>236</td>\n    </tr>\n    <tr>\n      <th>27297</th>\n      <td>27297</td>\n      <td>647</td>\n      <td>38</td>\n      <td>32</td>\n      <td>15</td>\n      <td>Joe Nemechek</td>\n      <td>RoyalTeakCollection.com   (Jay Robinson)</td>\n      <td>Chevrolet</td>\n      <td>227</td>\n    </tr>\n    <tr>\n      <th>27298</th>\n      <td>27298</td>\n      <td>647</td>\n      <td>39</td>\n      <td>9</td>\n      <td>24</td>\n      <td>William Byron</td>\n      <td>Axalta Flames of Independence   (Rick Hendrick)</td>\n      <td>Chevrolet</td>\n      <td>215</td>\n    </tr>\n    <tr>\n      <th>27299</th>\n      <td>27299</td>\n      <td>647</td>\n      <td>40</td>\n      <td>6</td>\n      <td>42</td>\n      <td>Kyle Larson</td>\n      <td>Credit One Bank   (Chip Ganassi)</td>\n      <td>Chevrolet</td>\n      <td>209</td>\n    </tr>\n  </tbody>\n</table>\n<p>27300 rows × 9 columns</p>\n</div>"
     },
     "execution_count": 239,
     "metadata": {},
     "output_type": "execute_result"
    }
   ],
   "source": [
    "standings"
   ],
   "metadata": {
    "collapsed": false
   }
  },
  {
   "cell_type": "markdown",
   "source": [
    "### Data Cleaning"
   ],
   "metadata": {
    "collapsed": false
   }
  },
  {
   "cell_type": "code",
   "execution_count": 259,
   "outputs": [],
   "source": [
    "def string_clean(s):\n",
    "    out = \"\"\n",
    "    for c in s:\n",
    "        if ord(c) >= 32 and ord(c) <= 126:\n",
    "            out += c\n",
    "    out = out.strip()\n",
    "    return out\n",
    "vec_string_clean = np.vectorize(string_clean)"
   ],
   "metadata": {
    "collapsed": false
   }
  },
  {
   "cell_type": "code",
   "execution_count": 260,
   "outputs": [
    {
     "data": {
      "text/plain": "year                   int64\nage                    int64\ncompleted             object\nwin                    int64\nt5                     int64\nt10                    int64\npole                   int64\nlaps                   int64\nled                    int64\nearnings               int64\nrank                   int64\navg_start            float64\navg_finish           float64\nrunning_at_finish      int64\nlead_lap_finishes      int64\ndnq                    int64\nwithdrew               int64\nhref                  object\ndtype: object"
     },
     "execution_count": 260,
     "metadata": {},
     "output_type": "execute_result"
    }
   ],
   "source": [
    "clean_seasons = seasons.copy()\n",
    "\n",
    "rem_commas = np.vectorize(lambda x : x.replace(\",\", \"\"))\n",
    "clean_seasons[\"earnings\"] = rem_commas(seasons[\"earnings\"])\n",
    "\n",
    "numerics = ['year', 'age', 'win', 't5', 't10', 'pole', 'laps', 'led', 'earnings', 'rank', 'avg_start', 'avg_finish', 'running_at_finish', 'lead_lap_finishes', 'dnq', 'withdrew']\n",
    "for col in numerics:\n",
    "    clean_seasons[col] = pd.to_numeric(clean_seasons[col])\n",
    "\n",
    "strings = [\"completed\", \"href\"]\n",
    "for col in strings:\n",
    "    clean_seasons[col] = vec_string_clean(clean_seasons[col])\n",
    "clean_seasons.dtypes"
   ],
   "metadata": {
    "collapsed": false
   }
  },
  {
   "cell_type": "code",
   "execution_count": 270,
   "outputs": [
    {
     "data": {
      "text/plain": "race_id                  int64\nseason                   int64\nrace_number              int64\ndate            datetime64[ns]\nsite                    object\ncars                     int64\nwinner                  object\nstart                    int64\nmake/model              object\nlen                    float64\nsfc                     object\nmiles                    int64\npurse                  float64\npole                   float64\ncautions                 int64\ncaution_laps             int64\nspeed                  float64\nlc                       int64\nhref                    object\ndtype: object"
     },
     "execution_count": 270,
     "metadata": {},
     "output_type": "execute_result"
    }
   ],
   "source": [
    "clean_races = races.copy()\n",
    "clean_races[\"purse\"] = rem_commas(races[\"purse\"])\n",
    "numerics = ['index', 'season', 'race_number', 'cars', 'start', 'len', 'miles', 'purse', 'pole', 'cautions', 'caution_laps', 'speed', 'lc']\n",
    "for col in numerics:\n",
    "    clean_races[col] = pd.to_numeric(clean_races[col], errors=\"coerce\")\n",
    "clean_races[\"date\"] = pd.to_datetime(clean_races[\"date\"])\n",
    "strings = [\"site\", \"winner\", \"make/model\", \"sfc\", \"href\"]\n",
    "for col in strings:\n",
    "    clean_races[col] = vec_string_clean(clean_races[col])\n",
    "clean_races.rename(inplace=True, columns={\"index\" : \"race_id\"})\n",
    "clean_races.dtypes"
   ],
   "metadata": {
    "collapsed": false
   }
  },
  {
   "cell_type": "code",
   "execution_count": 264,
   "outputs": [
    {
     "data": {
      "text/plain": "index       int64\nrace_id     int64\nplace       int64\nstart       int64\nnumber      int64\ndriver     object\nsponsor    object\ncar        object\nlaps        int64\ndtype: object"
     },
     "execution_count": 264,
     "metadata": {},
     "output_type": "execute_result"
    }
   ],
   "source": [
    "clean_standings = standings.copy()\n",
    "numerics = ['index', 'race_id', 'place', 'start', 'number', 'laps']\n",
    "for col in numerics:\n",
    "    clean_standings[col] = pd.to_numeric(clean_standings[col])\n",
    "strings = [\"driver\", \"sponsor\", \"car\"]\n",
    "for col in strings:\n",
    "    clean_standings[col] = vec_string_clean(clean_standings[col])\n",
    "clean_standings.dtypes"
   ],
   "metadata": {
    "collapsed": false
   }
  },
  {
   "cell_type": "code",
   "execution_count": 265,
   "outputs": [
    {
     "data": {
      "text/plain": "False"
     },
     "execution_count": 265,
     "metadata": {},
     "output_type": "execute_result"
    }
   ],
   "source": [
    "seasons.isna().any().any() or races.isna().any().any() or standings.isna().any().any()"
   ],
   "metadata": {
    "collapsed": false
   }
  },
  {
   "cell_type": "code",
   "execution_count": 324,
   "outputs": [
    {
     "data": {
      "text/plain": "{'Daytona': (29.2108147, -81.0228331),\n 'Rockingham': (36.3926798, -79.744144),\n 'Las Vegas': (36.1672559, -115.148516),\n 'Atlanta': (33.7489924, -84.3902644),\n 'Darlington': (34.3609331, -79.9438572),\n 'Bristol': (36.5945034, -82.1885212),\n 'Fort Worth': (32.753177, -97.3327459),\n 'Martinsville': (36.6915262, -79.8725386),\n 'Talladega': (33.3967079, -86.1597137),\n 'Fontana': (34.0922335, -117.435048),\n 'Richmond': (37.5385087, -77.43428),\n 'Charlotte': (35.2272086, -80.8430827),\n 'Dover': (39.158168, -75.5243682),\n 'Pocono': (47.246587, -116.0487687),\n 'Michigan': (42.105874, -84.2482819),\n 'Sonoma': (38.5110803, -122.8473388),\n 'Chicago': (41.8755616, -87.6244212),\n 'Loudon': (35.7490023, -84.320293),\n 'Indianapolis': (39.7683331, -86.1583502),\n 'Watkins Glen': (42.3810555, -76.8705777),\n 'Kansas': (39.1134562, -94.626497),\n 'Phoenix': (33.4484367, -112.074141),\n 'Homestead': (25.4718946, -80.4759905),\n 'Kentucky': (38.6880765, -84.89880439767657),\n 'Charlotte (Road)': (35.2272086, -80.8430827)}"
     },
     "execution_count": 324,
     "metadata": {},
     "output_type": "execute_result"
    }
   ],
   "source": [
    "site_lookup = {'Daytona' : 'Daytona Beach', 'Rockingham' : 'Rockingham', 'Las Vegas' : 'Las Vegas', 'Atlanta' : 'Atlanta', 'Darlington' : 'Darlington South Carolina', 'Bristol' : 'Bristol TN', 'Fort Worth' : 'Fort Worth', 'Martinsville' : 'Martinsville', 'Talladega' : 'Talladega', 'Fontana' : 'Fontana', 'Richmond' : 'Richmond', 'Charlotte' : 'Charlotte', 'Dover' : 'Dover DE', 'Pocono' : 'Pocono', 'Michigan' : 'Brooklyn Michigan', 'Sonoma' : 'Sonoma', 'Chicago' : 'Chicago', 'Loudon' : 'Loudon', 'Indianapolis' : 'Indianapolis', 'Watkins Glen' : 'Watkins Glen', 'Kansas' : 'Kansas City KS', 'Phoenix' : 'Phoenix', 'Homestead' : 'Homestead', 'Kentucky' : 'Sparta Kentucky', 'Charlotte (Road)' : 'Charlotte'}\n",
    "loc = Nominatim(user_agent=\"GetLoc\")\n",
    "site_coords = {}\n",
    "for site in clean_races[\"site\"].unique():\n",
    "    getLoc = loc.geocode(site_lookup[site])\n",
    "    site_coords[site] = (getLoc.latitude, getLoc.longitude)\n",
    "site_coords"
   ],
   "metadata": {
    "collapsed": false
   }
  },
  {
   "cell_type": "code",
   "execution_count": 359,
   "outputs": [
    {
     "data": {
      "text/plain": "  0%|          | 0/648 [00:00<?, ?it/s]",
      "application/vnd.jupyter.widget-view+json": {
       "version_major": 2,
       "version_minor": 0,
       "model_id": "1c71e2109c62452e81d848fa31fe4b7d"
      }
     },
     "metadata": {},
     "output_type": "display_data"
    },
    {
     "data": {
      "text/plain": "          time  tavg  tmin  tmax  prcp  snow   wdir  wspd  wpgt    pres  tsun  \\\n0   2002-02-17  14.4   7.2  21.1   0.0   NaN    NaN  10.4   NaN     NaN   0.0   \n1   2002-03-03   6.1  -0.6  12.8   0.0   0.0    NaN  10.4   NaN  1029.8   NaN   \n2   2002-03-10   7.2   1.7  12.2   0.0   0.0  323.0  27.0   NaN  1029.2   NaN   \n3   2002-03-17  17.3  11.7  20.6   NaN   NaN    NaN  12.7   NaN  1020.5   NaN   \n4   2002-03-24   7.2  -5.0  18.9   0.0   0.0    NaN   5.8   NaN  1019.4   0.0   \n..         ...   ...   ...   ...   ...   ...    ...   ...   ...     ...   ...   \n510 2019-10-20  13.4   7.2  19.4   3.3   0.0  140.0  10.7   NaN  1007.4   NaN   \n511 2019-10-27  20.5  11.6  26.7   NaN   NaN    NaN   4.9   NaN     NaN   NaN   \n512 2019-11-03  11.1   2.8  19.4   0.0   0.0    NaN  14.0   NaN  1020.8   NaN   \n513 2019-11-10  23.6  16.1  30.6   0.0   0.0  141.0   5.8   NaN  1011.8   NaN   \n514 2019-11-17  15.6  13.4  19.5   0.0   NaN  319.0  15.8   NaN  1011.9   NaN   \n\n             site station index  \n0         Daytona     NaN   NaN  \n1       Las Vegas     NaN   NaN  \n2         Atlanta     NaN   NaN  \n3      Darlington     NaN   NaN  \n4         Bristol     NaN   NaN  \n..            ...     ...   ...  \n510        Kansas     NaN   NaN  \n511  Martinsville     NaN   NaN  \n512    Fort Worth     NaN   NaN  \n513       Phoenix     NaN   NaN  \n514     Homestead     NaN   NaN  \n\n[515 rows x 14 columns]",
      "text/html": "<div>\n<style scoped>\n    .dataframe tbody tr th:only-of-type {\n        vertical-align: middle;\n    }\n\n    .dataframe tbody tr th {\n        vertical-align: top;\n    }\n\n    .dataframe thead th {\n        text-align: right;\n    }\n</style>\n<table border=\"1\" class=\"dataframe\">\n  <thead>\n    <tr style=\"text-align: right;\">\n      <th></th>\n      <th>time</th>\n      <th>tavg</th>\n      <th>tmin</th>\n      <th>tmax</th>\n      <th>prcp</th>\n      <th>snow</th>\n      <th>wdir</th>\n      <th>wspd</th>\n      <th>wpgt</th>\n      <th>pres</th>\n      <th>tsun</th>\n      <th>site</th>\n      <th>station</th>\n      <th>index</th>\n    </tr>\n  </thead>\n  <tbody>\n    <tr>\n      <th>0</th>\n      <td>2002-02-17</td>\n      <td>14.4</td>\n      <td>7.2</td>\n      <td>21.1</td>\n      <td>0.0</td>\n      <td>NaN</td>\n      <td>NaN</td>\n      <td>10.4</td>\n      <td>NaN</td>\n      <td>NaN</td>\n      <td>0.0</td>\n      <td>Daytona</td>\n      <td>NaN</td>\n      <td>NaN</td>\n    </tr>\n    <tr>\n      <th>1</th>\n      <td>2002-03-03</td>\n      <td>6.1</td>\n      <td>-0.6</td>\n      <td>12.8</td>\n      <td>0.0</td>\n      <td>0.0</td>\n      <td>NaN</td>\n      <td>10.4</td>\n      <td>NaN</td>\n      <td>1029.8</td>\n      <td>NaN</td>\n      <td>Las Vegas</td>\n      <td>NaN</td>\n      <td>NaN</td>\n    </tr>\n    <tr>\n      <th>2</th>\n      <td>2002-03-10</td>\n      <td>7.2</td>\n      <td>1.7</td>\n      <td>12.2</td>\n      <td>0.0</td>\n      <td>0.0</td>\n      <td>323.0</td>\n      <td>27.0</td>\n      <td>NaN</td>\n      <td>1029.2</td>\n      <td>NaN</td>\n      <td>Atlanta</td>\n      <td>NaN</td>\n      <td>NaN</td>\n    </tr>\n    <tr>\n      <th>3</th>\n      <td>2002-03-17</td>\n      <td>17.3</td>\n      <td>11.7</td>\n      <td>20.6</td>\n      <td>NaN</td>\n      <td>NaN</td>\n      <td>NaN</td>\n      <td>12.7</td>\n      <td>NaN</td>\n      <td>1020.5</td>\n      <td>NaN</td>\n      <td>Darlington</td>\n      <td>NaN</td>\n      <td>NaN</td>\n    </tr>\n    <tr>\n      <th>4</th>\n      <td>2002-03-24</td>\n      <td>7.2</td>\n      <td>-5.0</td>\n      <td>18.9</td>\n      <td>0.0</td>\n      <td>0.0</td>\n      <td>NaN</td>\n      <td>5.8</td>\n      <td>NaN</td>\n      <td>1019.4</td>\n      <td>0.0</td>\n      <td>Bristol</td>\n      <td>NaN</td>\n      <td>NaN</td>\n    </tr>\n    <tr>\n      <th>...</th>\n      <td>...</td>\n      <td>...</td>\n      <td>...</td>\n      <td>...</td>\n      <td>...</td>\n      <td>...</td>\n      <td>...</td>\n      <td>...</td>\n      <td>...</td>\n      <td>...</td>\n      <td>...</td>\n      <td>...</td>\n      <td>...</td>\n      <td>...</td>\n    </tr>\n    <tr>\n      <th>510</th>\n      <td>2019-10-20</td>\n      <td>13.4</td>\n      <td>7.2</td>\n      <td>19.4</td>\n      <td>3.3</td>\n      <td>0.0</td>\n      <td>140.0</td>\n      <td>10.7</td>\n      <td>NaN</td>\n      <td>1007.4</td>\n      <td>NaN</td>\n      <td>Kansas</td>\n      <td>NaN</td>\n      <td>NaN</td>\n    </tr>\n    <tr>\n      <th>511</th>\n      <td>2019-10-27</td>\n      <td>20.5</td>\n      <td>11.6</td>\n      <td>26.7</td>\n      <td>NaN</td>\n      <td>NaN</td>\n      <td>NaN</td>\n      <td>4.9</td>\n      <td>NaN</td>\n      <td>NaN</td>\n      <td>NaN</td>\n      <td>Martinsville</td>\n      <td>NaN</td>\n      <td>NaN</td>\n    </tr>\n    <tr>\n      <th>512</th>\n      <td>2019-11-03</td>\n      <td>11.1</td>\n      <td>2.8</td>\n      <td>19.4</td>\n      <td>0.0</td>\n      <td>0.0</td>\n      <td>NaN</td>\n      <td>14.0</td>\n      <td>NaN</td>\n      <td>1020.8</td>\n      <td>NaN</td>\n      <td>Fort Worth</td>\n      <td>NaN</td>\n      <td>NaN</td>\n    </tr>\n    <tr>\n      <th>513</th>\n      <td>2019-11-10</td>\n      <td>23.6</td>\n      <td>16.1</td>\n      <td>30.6</td>\n      <td>0.0</td>\n      <td>0.0</td>\n      <td>141.0</td>\n      <td>5.8</td>\n      <td>NaN</td>\n      <td>1011.8</td>\n      <td>NaN</td>\n      <td>Phoenix</td>\n      <td>NaN</td>\n      <td>NaN</td>\n    </tr>\n    <tr>\n      <th>514</th>\n      <td>2019-11-17</td>\n      <td>15.6</td>\n      <td>13.4</td>\n      <td>19.5</td>\n      <td>0.0</td>\n      <td>NaN</td>\n      <td>319.0</td>\n      <td>15.8</td>\n      <td>NaN</td>\n      <td>1011.9</td>\n      <td>NaN</td>\n      <td>Homestead</td>\n      <td>NaN</td>\n      <td>NaN</td>\n    </tr>\n  </tbody>\n</table>\n<p>515 rows × 14 columns</p>\n</div>"
     },
     "execution_count": 359,
     "metadata": {},
     "output_type": "execute_result"
    }
   ],
   "source": [
    "weather = DataFrame()\n",
    "for d, s in tqdm(clean_races[[\"date\", \"site\"]].values):\n",
    "    location = Point(*site_coords[s])\n",
    "    data = Daily(location, d, d)\n",
    "    data = data.fetch()\n",
    "    data[\"site\"] = s\n",
    "    weather = pd.concat([weather, data.reset_index()]).reset_index(drop=True)\n",
    "weather"
   ],
   "metadata": {
    "collapsed": false
   }
  },
  {
   "cell_type": "code",
   "execution_count": 361,
   "outputs": [
    {
     "data": {
      "text/plain": "          date  tavg  tmin  tmax  prcp  snow   wdir  wspd  wpgt    pres  tsun  \\\n0   2002-02-17  14.4   7.2  21.1   0.0   NaN    NaN  10.4   NaN     NaN   0.0   \n1   2002-03-03   6.1  -0.6  12.8   0.0   0.0    NaN  10.4   NaN  1029.8   NaN   \n2   2002-03-10   7.2   1.7  12.2   0.0   0.0  323.0  27.0   NaN  1029.2   NaN   \n3   2002-03-17  17.3  11.7  20.6   0.0   NaN    NaN  12.7   NaN  1020.5   NaN   \n4   2002-03-24   7.2  -5.0  18.9   0.0   0.0    NaN   5.8   NaN  1019.4   0.0   \n..         ...   ...   ...   ...   ...   ...    ...   ...   ...     ...   ...   \n510 2019-10-20  13.4   7.2  19.4   3.3   0.0  140.0  10.7   NaN  1007.4   NaN   \n511 2019-10-27  20.5  11.6  26.7   0.0   NaN    NaN   4.9   NaN     NaN   NaN   \n512 2019-11-03  11.1   2.8  19.4   0.0   0.0    NaN  14.0   NaN  1020.8   NaN   \n513 2019-11-10  23.6  16.1  30.6   0.0   0.0  141.0   5.8   NaN  1011.8   NaN   \n514 2019-11-17  15.6  13.4  19.5   0.0   NaN  319.0  15.8   NaN  1011.9   NaN   \n\n             site station index  \n0         Daytona     NaN   NaN  \n1       Las Vegas     NaN   NaN  \n2         Atlanta     NaN   NaN  \n3      Darlington     NaN   NaN  \n4         Bristol     NaN   NaN  \n..            ...     ...   ...  \n510        Kansas     NaN   NaN  \n511  Martinsville     NaN   NaN  \n512    Fort Worth     NaN   NaN  \n513       Phoenix     NaN   NaN  \n514     Homestead     NaN   NaN  \n\n[515 rows x 14 columns]",
      "text/html": "<div>\n<style scoped>\n    .dataframe tbody tr th:only-of-type {\n        vertical-align: middle;\n    }\n\n    .dataframe tbody tr th {\n        vertical-align: top;\n    }\n\n    .dataframe thead th {\n        text-align: right;\n    }\n</style>\n<table border=\"1\" class=\"dataframe\">\n  <thead>\n    <tr style=\"text-align: right;\">\n      <th></th>\n      <th>date</th>\n      <th>tavg</th>\n      <th>tmin</th>\n      <th>tmax</th>\n      <th>prcp</th>\n      <th>snow</th>\n      <th>wdir</th>\n      <th>wspd</th>\n      <th>wpgt</th>\n      <th>pres</th>\n      <th>tsun</th>\n      <th>site</th>\n      <th>station</th>\n      <th>index</th>\n    </tr>\n  </thead>\n  <tbody>\n    <tr>\n      <th>0</th>\n      <td>2002-02-17</td>\n      <td>14.4</td>\n      <td>7.2</td>\n      <td>21.1</td>\n      <td>0.0</td>\n      <td>NaN</td>\n      <td>NaN</td>\n      <td>10.4</td>\n      <td>NaN</td>\n      <td>NaN</td>\n      <td>0.0</td>\n      <td>Daytona</td>\n      <td>NaN</td>\n      <td>NaN</td>\n    </tr>\n    <tr>\n      <th>1</th>\n      <td>2002-03-03</td>\n      <td>6.1</td>\n      <td>-0.6</td>\n      <td>12.8</td>\n      <td>0.0</td>\n      <td>0.0</td>\n      <td>NaN</td>\n      <td>10.4</td>\n      <td>NaN</td>\n      <td>1029.8</td>\n      <td>NaN</td>\n      <td>Las Vegas</td>\n      <td>NaN</td>\n      <td>NaN</td>\n    </tr>\n    <tr>\n      <th>2</th>\n      <td>2002-03-10</td>\n      <td>7.2</td>\n      <td>1.7</td>\n      <td>12.2</td>\n      <td>0.0</td>\n      <td>0.0</td>\n      <td>323.0</td>\n      <td>27.0</td>\n      <td>NaN</td>\n      <td>1029.2</td>\n      <td>NaN</td>\n      <td>Atlanta</td>\n      <td>NaN</td>\n      <td>NaN</td>\n    </tr>\n    <tr>\n      <th>3</th>\n      <td>2002-03-17</td>\n      <td>17.3</td>\n      <td>11.7</td>\n      <td>20.6</td>\n      <td>0.0</td>\n      <td>NaN</td>\n      <td>NaN</td>\n      <td>12.7</td>\n      <td>NaN</td>\n      <td>1020.5</td>\n      <td>NaN</td>\n      <td>Darlington</td>\n      <td>NaN</td>\n      <td>NaN</td>\n    </tr>\n    <tr>\n      <th>4</th>\n      <td>2002-03-24</td>\n      <td>7.2</td>\n      <td>-5.0</td>\n      <td>18.9</td>\n      <td>0.0</td>\n      <td>0.0</td>\n      <td>NaN</td>\n      <td>5.8</td>\n      <td>NaN</td>\n      <td>1019.4</td>\n      <td>0.0</td>\n      <td>Bristol</td>\n      <td>NaN</td>\n      <td>NaN</td>\n    </tr>\n    <tr>\n      <th>...</th>\n      <td>...</td>\n      <td>...</td>\n      <td>...</td>\n      <td>...</td>\n      <td>...</td>\n      <td>...</td>\n      <td>...</td>\n      <td>...</td>\n      <td>...</td>\n      <td>...</td>\n      <td>...</td>\n      <td>...</td>\n      <td>...</td>\n      <td>...</td>\n    </tr>\n    <tr>\n      <th>510</th>\n      <td>2019-10-20</td>\n      <td>13.4</td>\n      <td>7.2</td>\n      <td>19.4</td>\n      <td>3.3</td>\n      <td>0.0</td>\n      <td>140.0</td>\n      <td>10.7</td>\n      <td>NaN</td>\n      <td>1007.4</td>\n      <td>NaN</td>\n      <td>Kansas</td>\n      <td>NaN</td>\n      <td>NaN</td>\n    </tr>\n    <tr>\n      <th>511</th>\n      <td>2019-10-27</td>\n      <td>20.5</td>\n      <td>11.6</td>\n      <td>26.7</td>\n      <td>0.0</td>\n      <td>NaN</td>\n      <td>NaN</td>\n      <td>4.9</td>\n      <td>NaN</td>\n      <td>NaN</td>\n      <td>NaN</td>\n      <td>Martinsville</td>\n      <td>NaN</td>\n      <td>NaN</td>\n    </tr>\n    <tr>\n      <th>512</th>\n      <td>2019-11-03</td>\n      <td>11.1</td>\n      <td>2.8</td>\n      <td>19.4</td>\n      <td>0.0</td>\n      <td>0.0</td>\n      <td>NaN</td>\n      <td>14.0</td>\n      <td>NaN</td>\n      <td>1020.8</td>\n      <td>NaN</td>\n      <td>Fort Worth</td>\n      <td>NaN</td>\n      <td>NaN</td>\n    </tr>\n    <tr>\n      <th>513</th>\n      <td>2019-11-10</td>\n      <td>23.6</td>\n      <td>16.1</td>\n      <td>30.6</td>\n      <td>0.0</td>\n      <td>0.0</td>\n      <td>141.0</td>\n      <td>5.8</td>\n      <td>NaN</td>\n      <td>1011.8</td>\n      <td>NaN</td>\n      <td>Phoenix</td>\n      <td>NaN</td>\n      <td>NaN</td>\n    </tr>\n    <tr>\n      <th>514</th>\n      <td>2019-11-17</td>\n      <td>15.6</td>\n      <td>13.4</td>\n      <td>19.5</td>\n      <td>0.0</td>\n      <td>NaN</td>\n      <td>319.0</td>\n      <td>15.8</td>\n      <td>NaN</td>\n      <td>1011.9</td>\n      <td>NaN</td>\n      <td>Homestead</td>\n      <td>NaN</td>\n      <td>NaN</td>\n    </tr>\n  </tbody>\n</table>\n<p>515 rows × 14 columns</p>\n</div>"
     },
     "execution_count": 361,
     "metadata": {},
     "output_type": "execute_result"
    }
   ],
   "source": [
    "clean_weather = weather.copy()\n",
    "numerics = ['tavg', 'tmin', 'prcp', 'snow', 'wdir', 'wspd', \"wpgt\", \"pres\", \"tsun\"]\n",
    "for col in numerics:\n",
    "    clean_weather[col] = pd.to_numeric(clean_weather[col])\n",
    "clean_weather[\"prcp\"].fillna(value=0.0, inplace=True)\n",
    "clean_weather.rename(columns={\"time\" : \"date\"}, inplace=True)\n",
    "clean_weather[\"date\"] = pd.to_datetime(clean_weather[\"date\"])\n",
    "clean_weather"
   ],
   "metadata": {
    "collapsed": false
   }
  },
  {
   "cell_type": "code",
   "execution_count": 351,
   "outputs": [],
   "source": [
    "clean_seasons.to_csv(\"clean_seasons.csv\")\n",
    "clean_races.to_csv(\"clean_races.csv\")\n",
    "clean_standings.to_csv(\"clean_standings.csv\")\n",
    "clean_weather.to_csv(\"clean_weather.csv\")"
   ],
   "metadata": {
    "collapsed": false
   }
  },
  {
   "cell_type": "markdown",
   "source": [
    "### Data Visualization"
   ],
   "metadata": {
    "collapsed": false
   }
  },
  {
   "cell_type": "code",
   "execution_count": 283,
   "outputs": [],
   "source": [
    "cse = clean_standings.copy()\n",
    "cr = clean_races.copy()\n",
    "cst = clean_standings.copy()"
   ],
   "metadata": {
    "collapsed": false
   }
  },
  {
   "cell_type": "code",
   "execution_count": 284,
   "outputs": [
    {
     "data": {
      "text/plain": "     race_id  season  race_number       date          site  cars  \\\n0          0    2002            1 2002-02-17       Daytona    43   \n1          1    2002            2 2002-02-24    Rockingham    43   \n2          2    2002            3 2002-03-03     Las Vegas    43   \n3          3    2002            4 2002-03-10       Atlanta    43   \n4          4    2002            5 2002-03-17    Darlington    43   \n..       ...     ...          ...        ...           ...   ...   \n643      643    2019           32 2019-10-20        Kansas    40   \n644      644    2019           33 2019-10-27  Martinsville    38   \n645      645    2019           34 2019-11-03    Fort Worth    40   \n646      646    2019           35 2019-11-10       Phoenix    39   \n647      647    2019           36 2019-11-17     Homestead    40   \n\n                winner make/model    len sfc  ...    speed  lc  \\\n0          Ward Burton      Dodge  2.500   P  ...  142.971  20   \n1         Matt Kenseth       Ford  1.017   P  ...  115.478  17   \n2      Sterling Marlin      Dodge  1.500   P  ...  136.754  22   \n3         Tony Stewart    Pontiac  1.540   P  ...  148.443  34   \n4      Sterling Marlin      Dodge  1.366   P  ...  126.070  11   \n..                 ...        ...    ...  ..  ...      ...  ..   \n643       Denny Hamlin     Toyota  1.500   P  ...  136.491  15   \n644  Martin Truex, Jr.     Toyota  0.526   P  ...   75.448   3   \n645      Kevin Harvick       Ford  1.500   P  ...  133.759  26   \n646       Denny Hamlin     Toyota  1.000   P  ...  111.429   8   \n647         Kyle Busch     Toyota  1.500   P  ...  142.654  14   \n\n                                                  href  place  start  number  \\\n0    https://www.racing-reference.info/race-results...     15      1      48   \n1    https://www.racing-reference.info/race-results...     28     11      48   \n2    https://www.racing-reference.info/race-results...      6     25      48   \n3    https://www.racing-reference.info/race-results...      3     15      48   \n4    https://www.racing-reference.info/race-results...      6      5      48   \n..                                                 ...    ...    ...     ...   \n643  https://www.racing-reference.info/race-results...     10     12      48   \n644  https://www.racing-reference.info/race-results...     38     24      48   \n645  https://www.racing-reference.info/race-results...     34     23      48   \n646  https://www.racing-reference.info/race-results...     14     22      48   \n647  https://www.racing-reference.info/race-results...     13     18      48   \n\n             driver                                sponsor        car  laps  \n0    Jimmie Johnson                Lowe's  (Rick Hendrick)  Chevrolet   199  \n1    Jimmie Johnson                Lowe's  (Rick Hendrick)  Chevrolet   390  \n2    Jimmie Johnson                Lowe's  (Rick Hendrick)  Chevrolet   267  \n3    Jimmie Johnson                Lowe's  (Rick Hendrick)  Chevrolet   325  \n4    Jimmie Johnson                Lowe's  (Rick Hendrick)  Chevrolet   293  \n..              ...                                    ...        ...   ...  \n643  Jimmie Johnson  Ally Fueling Futures  (Rick Hendrick)  Chevrolet   277  \n644  Jimmie Johnson                  Ally  (Rick Hendrick)  Chevrolet   361  \n645  Jimmie Johnson                  Ally  (Rick Hendrick)  Chevrolet   199  \n646  Jimmie Johnson                  Ally  (Rick Hendrick)  Chevrolet   312  \n647  Jimmie Johnson                  Ally  (Rick Hendrick)  Chevrolet   266  \n\n[648 rows x 25 columns]",
      "text/html": "<div>\n<style scoped>\n    .dataframe tbody tr th:only-of-type {\n        vertical-align: middle;\n    }\n\n    .dataframe tbody tr th {\n        vertical-align: top;\n    }\n\n    .dataframe thead th {\n        text-align: right;\n    }\n</style>\n<table border=\"1\" class=\"dataframe\">\n  <thead>\n    <tr style=\"text-align: right;\">\n      <th></th>\n      <th>race_id</th>\n      <th>season</th>\n      <th>race_number</th>\n      <th>date</th>\n      <th>site</th>\n      <th>cars</th>\n      <th>winner</th>\n      <th>make/model</th>\n      <th>len</th>\n      <th>sfc</th>\n      <th>...</th>\n      <th>speed</th>\n      <th>lc</th>\n      <th>href</th>\n      <th>place</th>\n      <th>start</th>\n      <th>number</th>\n      <th>driver</th>\n      <th>sponsor</th>\n      <th>car</th>\n      <th>laps</th>\n    </tr>\n  </thead>\n  <tbody>\n    <tr>\n      <th>0</th>\n      <td>0</td>\n      <td>2002</td>\n      <td>1</td>\n      <td>2002-02-17</td>\n      <td>Daytona</td>\n      <td>43</td>\n      <td>Ward Burton</td>\n      <td>Dodge</td>\n      <td>2.500</td>\n      <td>P</td>\n      <td>...</td>\n      <td>142.971</td>\n      <td>20</td>\n      <td>https://www.racing-reference.info/race-results...</td>\n      <td>15</td>\n      <td>1</td>\n      <td>48</td>\n      <td>Jimmie Johnson</td>\n      <td>Lowe's  (Rick Hendrick)</td>\n      <td>Chevrolet</td>\n      <td>199</td>\n    </tr>\n    <tr>\n      <th>1</th>\n      <td>1</td>\n      <td>2002</td>\n      <td>2</td>\n      <td>2002-02-24</td>\n      <td>Rockingham</td>\n      <td>43</td>\n      <td>Matt Kenseth</td>\n      <td>Ford</td>\n      <td>1.017</td>\n      <td>P</td>\n      <td>...</td>\n      <td>115.478</td>\n      <td>17</td>\n      <td>https://www.racing-reference.info/race-results...</td>\n      <td>28</td>\n      <td>11</td>\n      <td>48</td>\n      <td>Jimmie Johnson</td>\n      <td>Lowe's  (Rick Hendrick)</td>\n      <td>Chevrolet</td>\n      <td>390</td>\n    </tr>\n    <tr>\n      <th>2</th>\n      <td>2</td>\n      <td>2002</td>\n      <td>3</td>\n      <td>2002-03-03</td>\n      <td>Las Vegas</td>\n      <td>43</td>\n      <td>Sterling Marlin</td>\n      <td>Dodge</td>\n      <td>1.500</td>\n      <td>P</td>\n      <td>...</td>\n      <td>136.754</td>\n      <td>22</td>\n      <td>https://www.racing-reference.info/race-results...</td>\n      <td>6</td>\n      <td>25</td>\n      <td>48</td>\n      <td>Jimmie Johnson</td>\n      <td>Lowe's  (Rick Hendrick)</td>\n      <td>Chevrolet</td>\n      <td>267</td>\n    </tr>\n    <tr>\n      <th>3</th>\n      <td>3</td>\n      <td>2002</td>\n      <td>4</td>\n      <td>2002-03-10</td>\n      <td>Atlanta</td>\n      <td>43</td>\n      <td>Tony Stewart</td>\n      <td>Pontiac</td>\n      <td>1.540</td>\n      <td>P</td>\n      <td>...</td>\n      <td>148.443</td>\n      <td>34</td>\n      <td>https://www.racing-reference.info/race-results...</td>\n      <td>3</td>\n      <td>15</td>\n      <td>48</td>\n      <td>Jimmie Johnson</td>\n      <td>Lowe's  (Rick Hendrick)</td>\n      <td>Chevrolet</td>\n      <td>325</td>\n    </tr>\n    <tr>\n      <th>4</th>\n      <td>4</td>\n      <td>2002</td>\n      <td>5</td>\n      <td>2002-03-17</td>\n      <td>Darlington</td>\n      <td>43</td>\n      <td>Sterling Marlin</td>\n      <td>Dodge</td>\n      <td>1.366</td>\n      <td>P</td>\n      <td>...</td>\n      <td>126.070</td>\n      <td>11</td>\n      <td>https://www.racing-reference.info/race-results...</td>\n      <td>6</td>\n      <td>5</td>\n      <td>48</td>\n      <td>Jimmie Johnson</td>\n      <td>Lowe's  (Rick Hendrick)</td>\n      <td>Chevrolet</td>\n      <td>293</td>\n    </tr>\n    <tr>\n      <th>...</th>\n      <td>...</td>\n      <td>...</td>\n      <td>...</td>\n      <td>...</td>\n      <td>...</td>\n      <td>...</td>\n      <td>...</td>\n      <td>...</td>\n      <td>...</td>\n      <td>...</td>\n      <td>...</td>\n      <td>...</td>\n      <td>...</td>\n      <td>...</td>\n      <td>...</td>\n      <td>...</td>\n      <td>...</td>\n      <td>...</td>\n      <td>...</td>\n      <td>...</td>\n      <td>...</td>\n    </tr>\n    <tr>\n      <th>643</th>\n      <td>643</td>\n      <td>2019</td>\n      <td>32</td>\n      <td>2019-10-20</td>\n      <td>Kansas</td>\n      <td>40</td>\n      <td>Denny Hamlin</td>\n      <td>Toyota</td>\n      <td>1.500</td>\n      <td>P</td>\n      <td>...</td>\n      <td>136.491</td>\n      <td>15</td>\n      <td>https://www.racing-reference.info/race-results...</td>\n      <td>10</td>\n      <td>12</td>\n      <td>48</td>\n      <td>Jimmie Johnson</td>\n      <td>Ally Fueling Futures  (Rick Hendrick)</td>\n      <td>Chevrolet</td>\n      <td>277</td>\n    </tr>\n    <tr>\n      <th>644</th>\n      <td>644</td>\n      <td>2019</td>\n      <td>33</td>\n      <td>2019-10-27</td>\n      <td>Martinsville</td>\n      <td>38</td>\n      <td>Martin Truex, Jr.</td>\n      <td>Toyota</td>\n      <td>0.526</td>\n      <td>P</td>\n      <td>...</td>\n      <td>75.448</td>\n      <td>3</td>\n      <td>https://www.racing-reference.info/race-results...</td>\n      <td>38</td>\n      <td>24</td>\n      <td>48</td>\n      <td>Jimmie Johnson</td>\n      <td>Ally  (Rick Hendrick)</td>\n      <td>Chevrolet</td>\n      <td>361</td>\n    </tr>\n    <tr>\n      <th>645</th>\n      <td>645</td>\n      <td>2019</td>\n      <td>34</td>\n      <td>2019-11-03</td>\n      <td>Fort Worth</td>\n      <td>40</td>\n      <td>Kevin Harvick</td>\n      <td>Ford</td>\n      <td>1.500</td>\n      <td>P</td>\n      <td>...</td>\n      <td>133.759</td>\n      <td>26</td>\n      <td>https://www.racing-reference.info/race-results...</td>\n      <td>34</td>\n      <td>23</td>\n      <td>48</td>\n      <td>Jimmie Johnson</td>\n      <td>Ally  (Rick Hendrick)</td>\n      <td>Chevrolet</td>\n      <td>199</td>\n    </tr>\n    <tr>\n      <th>646</th>\n      <td>646</td>\n      <td>2019</td>\n      <td>35</td>\n      <td>2019-11-10</td>\n      <td>Phoenix</td>\n      <td>39</td>\n      <td>Denny Hamlin</td>\n      <td>Toyota</td>\n      <td>1.000</td>\n      <td>P</td>\n      <td>...</td>\n      <td>111.429</td>\n      <td>8</td>\n      <td>https://www.racing-reference.info/race-results...</td>\n      <td>14</td>\n      <td>22</td>\n      <td>48</td>\n      <td>Jimmie Johnson</td>\n      <td>Ally  (Rick Hendrick)</td>\n      <td>Chevrolet</td>\n      <td>312</td>\n    </tr>\n    <tr>\n      <th>647</th>\n      <td>647</td>\n      <td>2019</td>\n      <td>36</td>\n      <td>2019-11-17</td>\n      <td>Homestead</td>\n      <td>40</td>\n      <td>Kyle Busch</td>\n      <td>Toyota</td>\n      <td>1.500</td>\n      <td>P</td>\n      <td>...</td>\n      <td>142.654</td>\n      <td>14</td>\n      <td>https://www.racing-reference.info/race-results...</td>\n      <td>13</td>\n      <td>18</td>\n      <td>48</td>\n      <td>Jimmie Johnson</td>\n      <td>Ally  (Rick Hendrick)</td>\n      <td>Chevrolet</td>\n      <td>266</td>\n    </tr>\n  </tbody>\n</table>\n<p>648 rows × 25 columns</p>\n</div>"
     },
     "execution_count": 284,
     "metadata": {},
     "output_type": "execute_result"
    }
   ],
   "source": [
    "cr = cr.drop(columns=[\"start\"]).merge(cst[cst[\"driver\"] == \"Jimmie Johnson\"].drop(columns=\"index\"), on=\"race_id\", how=\"inner\")\n",
    "cr"
   ],
   "metadata": {
    "collapsed": false
   }
  },
  {
   "cell_type": "code",
   "execution_count": 416,
   "outputs": [
    {
     "name": "stdout",
     "output_type": "stream",
     "text": [
      "r^2 = 0.004506335839185138\n"
     ]
    },
    {
     "data": {
      "text/plain": "[<matplotlib.lines.Line2D at 0x21ebe79c520>]"
     },
     "execution_count": 416,
     "metadata": {},
     "output_type": "execute_result"
    },
    {
     "data": {
      "text/plain": "<Figure size 640x480 with 1 Axes>",
      "image/png": "[encoded data removed]"
     },
     "metadata": {},
     "output_type": "display_data"
    }
   ],
   "source": [
    "\n",
    "from sklearn.linear_model import LinearRegression\n",
    "from sklearn.preprocessing import PolynomialFeatures, FunctionTransformer\n",
    "from sklearn.pipeline import make_pipeline\n",
    "from sklearn.metrics import mean_squared_error\n",
    "import sklearn\n",
    "temp = cr.merge(clean_weather, on=\"date\")\n",
    "X = temp[\"prcp\"].values.reshape(-1, 1)\n",
    "y = temp[\"place\"].values.reshape(-1, 1)\n",
    "\n",
    "transformer = FunctionTransformer(np.exp, validate=True)\n",
    "\n",
    "model = LinearRegression()\n",
    "model.fit(X,y)\n",
    "y_pred = model.predict(X)\n",
    "r2 = sklearn.metrics.r2_score(y, y_pred)\n",
    "print(f\"r^2 = {r2}\")\n",
    "\n",
    "\n",
    "plt.scatter(X, y)\n",
    "plt.plot(X, y_pred, color=\"orange\")"
   ],
   "metadata": {
    "collapsed": false
   }
  },
  {
   "cell_type": "code",
   "execution_count": 362,
   "outputs": [
    {
     "data": {
      "text/plain": "     race_id  season  race_number       date        site_x  cars  \\\n0          0    2002            1 2002-02-17       Daytona    43   \n1          2    2002            3 2002-03-03     Las Vegas    43   \n2          3    2002            4 2002-03-10       Atlanta    43   \n3          4    2002            5 2002-03-17    Darlington    43   \n4          5    2002            6 2002-03-24       Bristol    43   \n..       ...     ...          ...        ...           ...   ...   \n510      643    2019           32 2019-10-20        Kansas    40   \n511      644    2019           33 2019-10-27  Martinsville    38   \n512      645    2019           34 2019-11-03    Fort Worth    40   \n513      646    2019           35 2019-11-10       Phoenix    39   \n514      647    2019           36 2019-11-17     Homestead    40   \n\n                winner make/model    len sfc  ...  prcp  snow   wdir  wspd  \\\n0          Ward Burton      Dodge  2.500   P  ...   0.0   NaN    NaN  10.4   \n1      Sterling Marlin      Dodge  1.500   P  ...   0.0   0.0    NaN  10.4   \n2         Tony Stewart    Pontiac  1.540   P  ...   0.0   0.0  323.0  27.0   \n3      Sterling Marlin      Dodge  1.366   P  ...   0.0   NaN    NaN  12.7   \n4           Kurt Busch       Ford  0.533   P  ...   0.0   0.0    NaN   5.8   \n..                 ...        ...    ...  ..  ...   ...   ...    ...   ...   \n510       Denny Hamlin     Toyota  1.500   P  ...   3.3   0.0  140.0  10.7   \n511  Martin Truex, Jr.     Toyota  0.526   P  ...   0.0   NaN    NaN   4.9   \n512      Kevin Harvick       Ford  1.500   P  ...   0.0   0.0    NaN  14.0   \n513       Denny Hamlin     Toyota  1.000   P  ...   0.0   0.0  141.0   5.8   \n514         Kyle Busch     Toyota  1.500   P  ...   0.0   NaN  319.0  15.8   \n\n     wpgt    pres  tsun        site_y  station  index  \n0     NaN     NaN   0.0       Daytona      NaN    NaN  \n1     NaN  1029.8   NaN     Las Vegas      NaN    NaN  \n2     NaN  1029.2   NaN       Atlanta      NaN    NaN  \n3     NaN  1020.5   NaN    Darlington      NaN    NaN  \n4     NaN  1019.4   0.0       Bristol      NaN    NaN  \n..    ...     ...   ...           ...      ...    ...  \n510   NaN  1007.4   NaN        Kansas      NaN    NaN  \n511   NaN     NaN   NaN  Martinsville      NaN    NaN  \n512   NaN  1020.8   NaN    Fort Worth      NaN    NaN  \n513   NaN  1011.8   NaN       Phoenix      NaN    NaN  \n514   NaN  1011.9   NaN     Homestead      NaN    NaN  \n\n[515 rows x 38 columns]",
      "text/html": "<div>\n<style scoped>\n    .dataframe tbody tr th:only-of-type {\n        vertical-align: middle;\n    }\n\n    .dataframe tbody tr th {\n        vertical-align: top;\n    }\n\n    .dataframe thead th {\n        text-align: right;\n    }\n</style>\n<table border=\"1\" class=\"dataframe\">\n  <thead>\n    <tr style=\"text-align: right;\">\n      <th></th>\n      <th>race_id</th>\n      <th>season</th>\n      <th>race_number</th>\n      <th>date</th>\n      <th>site_x</th>\n      <th>cars</th>\n      <th>winner</th>\n      <th>make/model</th>\n      <th>len</th>\n      <th>sfc</th>\n      <th>...</th>\n      <th>prcp</th>\n      <th>snow</th>\n      <th>wdir</th>\n      <th>wspd</th>\n      <th>wpgt</th>\n      <th>pres</th>\n      <th>tsun</th>\n      <th>site_y</th>\n      <th>station</th>\n      <th>index</th>\n    </tr>\n  </thead>\n  <tbody>\n    <tr>\n      <th>0</th>\n      <td>0</td>\n      <td>2002</td>\n      <td>1</td>\n      <td>2002-02-17</td>\n      <td>Daytona</td>\n      <td>43</td>\n      <td>Ward Burton</td>\n      <td>Dodge</td>\n      <td>2.500</td>\n      <td>P</td>\n      <td>...</td>\n      <td>0.0</td>\n      <td>NaN</td>\n      <td>NaN</td>\n      <td>10.4</td>\n      <td>NaN</td>\n      <td>NaN</td>\n      <td>0.0</td>\n      <td>Daytona</td>\n      <td>NaN</td>\n      <td>NaN</td>\n    </tr>\n    <tr>\n      <th>1</th>\n      <td>2</td>\n      <td>2002</td>\n      <td>3</td>\n      <td>2002-03-03</td>\n      <td>Las Vegas</td>\n      <td>43</td>\n      <td>Sterling Marlin</td>\n      <td>Dodge</td>\n      <td>1.500</td>\n      <td>P</td>\n      <td>...</td>\n      <td>0.0</td>\n      <td>0.0</td>\n      <td>NaN</td>\n      <td>10.4</td>\n      <td>NaN</td>\n      <td>1029.8</td>\n      <td>NaN</td>\n      <td>Las Vegas</td>\n      <td>NaN</td>\n      <td>NaN</td>\n    </tr>\n    <tr>\n      <th>2</th>\n      <td>3</td>\n      <td>2002</td>\n      <td>4</td>\n      <td>2002-03-10</td>\n      <td>Atlanta</td>\n      <td>43</td>\n      <td>Tony Stewart</td>\n      <td>Pontiac</td>\n      <td>1.540</td>\n      <td>P</td>\n      <td>...</td>\n      <td>0.0</td>\n      <td>0.0</td>\n      <td>323.0</td>\n      <td>27.0</td>\n      <td>NaN</td>\n      <td>1029.2</td>\n      <td>NaN</td>\n      <td>Atlanta</td>\n      <td>NaN</td>\n      <td>NaN</td>\n    </tr>\n    <tr>\n      <th>3</th>\n      <td>4</td>\n      <td>2002</td>\n      <td>5</td>\n      <td>2002-03-17</td>\n      <td>Darlington</td>\n      <td>43</td>\n      <td>Sterling Marlin</td>\n      <td>Dodge</td>\n      <td>1.366</td>\n      <td>P</td>\n      <td>...</td>\n      <td>0.0</td>\n      <td>NaN</td>\n      <td>NaN</td>\n      <td>12.7</td>\n      <td>NaN</td>\n      <td>1020.5</td>\n      <td>NaN</td>\n      <td>Darlington</td>\n      <td>NaN</td>\n      <td>NaN</td>\n    </tr>\n    <tr>\n      <th>4</th>\n      <td>5</td>\n      <td>2002</td>\n      <td>6</td>\n      <td>2002-03-24</td>\n      <td>Bristol</td>\n      <td>43</td>\n      <td>Kurt Busch</td>\n      <td>Ford</td>\n      <td>0.533</td>\n      <td>P</td>\n      <td>...</td>\n      <td>0.0</td>\n      <td>0.0</td>\n      <td>NaN</td>\n      <td>5.8</td>\n      <td>NaN</td>\n      <td>1019.4</td>\n      <td>0.0</td>\n      <td>Bristol</td>\n      <td>NaN</td>\n      <td>NaN</td>\n    </tr>\n    <tr>\n      <th>...</th>\n      <td>...</td>\n      <td>...</td>\n      <td>...</td>\n      <td>...</td>\n      <td>...</td>\n      <td>...</td>\n      <td>...</td>\n      <td>...</td>\n      <td>...</td>\n      <td>...</td>\n      <td>...</td>\n      <td>...</td>\n      <td>...</td>\n      <td>...</td>\n      <td>...</td>\n      <td>...</td>\n      <td>...</td>\n      <td>...</td>\n      <td>...</td>\n      <td>...</td>\n      <td>...</td>\n    </tr>\n    <tr>\n      <th>510</th>\n      <td>643</td>\n      <td>2019</td>\n      <td>32</td>\n      <td>2019-10-20</td>\n      <td>Kansas</td>\n      <td>40</td>\n      <td>Denny Hamlin</td>\n      <td>Toyota</td>\n      <td>1.500</td>\n      <td>P</td>\n      <td>...</td>\n      <td>3.3</td>\n      <td>0.0</td>\n      <td>140.0</td>\n      <td>10.7</td>\n      <td>NaN</td>\n      <td>1007.4</td>\n      <td>NaN</td>\n      <td>Kansas</td>\n      <td>NaN</td>\n      <td>NaN</td>\n    </tr>\n    <tr>\n      <th>511</th>\n      <td>644</td>\n      <td>2019</td>\n      <td>33</td>\n      <td>2019-10-27</td>\n      <td>Martinsville</td>\n      <td>38</td>\n      <td>Martin Truex, Jr.</td>\n      <td>Toyota</td>\n      <td>0.526</td>\n      <td>P</td>\n      <td>...</td>\n      <td>0.0</td>\n      <td>NaN</td>\n      <td>NaN</td>\n      <td>4.9</td>\n      <td>NaN</td>\n      <td>NaN</td>\n      <td>NaN</td>\n      <td>Martinsville</td>\n      <td>NaN</td>\n      <td>NaN</td>\n    </tr>\n    <tr>\n      <th>512</th>\n      <td>645</td>\n      <td>2019</td>\n      <td>34</td>\n      <td>2019-11-03</td>\n      <td>Fort Worth</td>\n      <td>40</td>\n      <td>Kevin Harvick</td>\n      <td>Ford</td>\n      <td>1.500</td>\n      <td>P</td>\n      <td>...</td>\n      <td>0.0</td>\n      <td>0.0</td>\n      <td>NaN</td>\n      <td>14.0</td>\n      <td>NaN</td>\n      <td>1020.8</td>\n      <td>NaN</td>\n      <td>Fort Worth</td>\n      <td>NaN</td>\n      <td>NaN</td>\n    </tr>\n    <tr>\n      <th>513</th>\n      <td>646</td>\n      <td>2019</td>\n      <td>35</td>\n      <td>2019-11-10</td>\n      <td>Phoenix</td>\n      <td>39</td>\n      <td>Denny Hamlin</td>\n      <td>Toyota</td>\n      <td>1.000</td>\n      <td>P</td>\n      <td>...</td>\n      <td>0.0</td>\n      <td>0.0</td>\n      <td>141.0</td>\n      <td>5.8</td>\n      <td>NaN</td>\n      <td>1011.8</td>\n      <td>NaN</td>\n      <td>Phoenix</td>\n      <td>NaN</td>\n      <td>NaN</td>\n    </tr>\n    <tr>\n      <th>514</th>\n      <td>647</td>\n      <td>2019</td>\n      <td>36</td>\n      <td>2019-11-17</td>\n      <td>Homestead</td>\n      <td>40</td>\n      <td>Kyle Busch</td>\n      <td>Toyota</td>\n      <td>1.500</td>\n      <td>P</td>\n      <td>...</td>\n      <td>0.0</td>\n      <td>NaN</td>\n      <td>319.0</td>\n      <td>15.8</td>\n      <td>NaN</td>\n      <td>1011.9</td>\n      <td>NaN</td>\n      <td>Homestead</td>\n      <td>NaN</td>\n      <td>NaN</td>\n    </tr>\n  </tbody>\n</table>\n<p>515 rows × 38 columns</p>\n</div>"
     },
     "execution_count": 362,
     "metadata": {},
     "output_type": "execute_result"
    }
   ],
   "source": [],
   "metadata": {
    "collapsed": false
   }
  },
  {
   "cell_type": "code",
   "execution_count": 316,
   "outputs": [
    {
     "name": "stdout",
     "output_type": "stream",
     "text": [
      "{'Daytona' : 'Daytona', 'Rockingham' : 'Rockingham', 'Las Vegas' : 'Las Vegas', 'Atlanta' : 'Atlanta', 'Darlington' : 'Darlington', 'Bristol' : 'Bristol', 'Fort Worth' : 'Fort Worth', 'Martinsville' : 'Martinsville', 'Talladega' : 'Talladega', 'Fontana' : 'Fontana', 'Richmond' : 'Richmond', 'Charlotte' : 'Charlotte', 'Dover' : 'Dover', 'Pocono' : 'Pocono', 'Michigan' : 'Michigan', 'Sonoma' : 'Sonoma', 'Chicago' : 'Chicago', 'Loudon' : 'Loudon', 'Indianapolis' : 'Indianapolis', 'Watkins Glen' : 'Watkins Glen', 'Kansas' : 'Kansas', 'Phoenix' : 'Phoenix', 'Homestead' : 'Homestead', 'Kentucky' : 'Kentucky', 'Charlotte (Road)' : 'Charlotte (Road)', "
     ]
    }
   ],
   "source": [
    "print(\"{\", end=\"\")\n",
    "for site in list(cr[\"site\"].unique()):\n",
    "    print(f\"'{site}' : '{site}', \", end=\"\")\n"
   ],
   "metadata": {
    "collapsed": false
   }
  }
 ],
 "metadata": {
  "kernelspec": {
   "display_name": "Python 3",
   "language": "python",
   "name": "python3"
  },
  "language_info": {
   "codemirror_mode": {
    "name": "ipython",
    "version": 2
   },
   "file_extension": ".py",
   "mimetype": "text/x-python",
   "name": "python",
   "nbconvert_exporter": "python",
   "pygments_lexer": "ipython2",
   "version": "2.7.6"
  }
 },
 "nbformat": 4,
 "nbformat_minor": 0
}
